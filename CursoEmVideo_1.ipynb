{
  "nbformat": 4,
  "nbformat_minor": 0,
  "metadata": {
    "colab": {
      "provenance": [],
      "authorship_tag": "ABX9TyMtPmuskK3GYD0NTqKVp1OG",
      "include_colab_link": true
    },
    "kernelspec": {
      "name": "python3",
      "display_name": "Python 3"
    },
    "language_info": {
      "name": "python"
    }
  },
  "cells": [
    {
      "cell_type": "markdown",
      "metadata": {
        "id": "view-in-github",
        "colab_type": "text"
      },
      "source": [
        "<a href=\"https://colab.research.google.com/github/Roger-Quinelato/Curso-em-Video---Python-1-/blob/main/CursoEmVideo_1.ipynb\" target=\"_parent\"><img src=\"https://colab.research.google.com/assets/colab-badge.svg\" alt=\"Open In Colab\"/></a>"
      ]
    },
    {
      "cell_type": "code",
      "execution_count": 15,
      "metadata": {
        "colab": {
          "base_uri": "https://localhost:8080/"
        },
        "id": "4hMLF2crQGfQ",
        "outputId": "686a3ffe-c14c-4c66-c773-8afe1c123b20"
      },
      "outputs": [
        {
          "name": "stdout",
          "output_type": "stream",
          "text": [
            "Qual o seu nome? Roger\n"
          ]
        }
      ],
      "source": [
        "nome = input(\"Qual o seu nome? \")\n"
      ]
    },
    {
      "cell_type": "code",
      "source": [
        "print(\"Olá \", nome, \" você procrastinou muuito hoje já. Foque em crescer e não pare de programar!!! Confio em você e Deus também.\")"
      ],
      "metadata": {
        "colab": {
          "base_uri": "https://localhost:8080/"
        },
        "id": "P3bRrYpyQylw",
        "outputId": "e688e1f1-6b07-4567-ba98-2cb292141e07"
      },
      "execution_count": 16,
      "outputs": [
        {
          "output_type": "stream",
          "name": "stdout",
          "text": [
            "Olá  Roger  você procrastinou muuito hoje já. Foque em crescer e não pare de programar!!! Confio em você e Deus também.\n"
          ]
        }
      ]
    },
    {
      "cell_type": "markdown",
      "source": [
        "\n",
        "\n",
        "---\n",
        "\n"
      ],
      "metadata": {
        "id": "l9BLCWczSLYc"
      }
    },
    {
      "cell_type": "markdown",
      "source": [
        "**Desafio 2**"
      ],
      "metadata": {
        "id": "9YlRbm6qSM_d"
      }
    },
    {
      "cell_type": "code",
      "source": [
        "dia = input(\"Qual dia você nasceu? \")\n",
        "mes = input(\"Qual mês você nasceu? \")\n",
        "ano = input(\"Qual ano você nasceu? \")\n",
        "\n",
        "print(\"Seu aniversário é dia\", dia, \"do mês\", mes, \". Você tem\", 2025 - int(ano) , \"anos.\")"
      ],
      "metadata": {
        "colab": {
          "base_uri": "https://localhost:8080/"
        },
        "id": "Fue6mj8ySQvV",
        "outputId": "273033f7-bf4d-4692-fff1-89c395f6da5c"
      },
      "execution_count": 17,
      "outputs": [
        {
          "output_type": "stream",
          "name": "stdout",
          "text": [
            "Qual dia você nasceu? 16\n",
            "Qual mês você nasceu? 09\n",
            "Qual ano você nasceu? 1997\n",
            "Seu aniversário é dia 16 do mês 09 . Você tem 28 anos.\n"
          ]
        }
      ]
    },
    {
      "cell_type": "markdown",
      "source": [
        "\n",
        "\n",
        "---\n",
        "\n"
      ],
      "metadata": {
        "id": "IpDPhaBmUyYF"
      }
    },
    {
      "cell_type": "markdown",
      "source": [
        "**Desafio 3**"
      ],
      "metadata": {
        "id": "kvwgJ454UzNv"
      }
    },
    {
      "cell_type": "code",
      "source": [
        "num1 = input(\"Digite um número: \")\n",
        "num2 = input(\"Digite outro número: \")\n",
        "\n",
        "print(\"A soma dos números é: \", int(num1) + int(num2))"
      ],
      "metadata": {
        "colab": {
          "base_uri": "https://localhost:8080/"
        },
        "id": "VUFq1KKXU3Mt",
        "outputId": "6fa3a565-f209-4ee0-bee6-7bd395facda7"
      },
      "execution_count": 18,
      "outputs": [
        {
          "output_type": "stream",
          "name": "stdout",
          "text": [
            "Digite um número: 1\n",
            "Digite outro número: 2\n",
            "A soma dos números é:  3\n"
          ]
        }
      ]
    }
  ]
}